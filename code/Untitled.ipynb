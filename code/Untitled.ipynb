{
 "cells": [
  {
   "cell_type": "code",
   "execution_count": 3,
   "id": "256b2ab1",
   "metadata": {},
   "outputs": [],
   "source": [
    "import os\n",
    "import pandas as pd"
   ]
  },
  {
   "cell_type": "code",
   "execution_count": 4,
   "id": "bafbaca2",
   "metadata": {},
   "outputs": [],
   "source": [
    "dfjan1=pd.read_csv('/Users/ersankucukoglu/Desktop/Projects/accidents_python-project/data/weather/01012015-05012015.csv')"
   ]
  },
  {
   "cell_type": "code",
   "execution_count": 6,
   "id": "1062b77b",
   "metadata": {},
   "outputs": [],
   "source": [
    "dfjan2=pd.read_csv('/Users/ersankucukoglu/Desktop/Projects/accidents_python-project/data/weather/06012015-09012015.csv')"
   ]
  },
  {
   "cell_type": "code",
   "execution_count": null,
   "id": "fb94b04f",
   "metadata": {},
   "outputs": [],
   "source": [
    "df =  dfjan1.merge(dfjan2, on)"
   ]
  }
 ],
 "metadata": {
  "kernelspec": {
   "display_name": "Python 3 (ipykernel)",
   "language": "python",
   "name": "python3"
  },
  "language_info": {
   "codemirror_mode": {
    "name": "ipython",
    "version": 3
   },
   "file_extension": ".py",
   "mimetype": "text/x-python",
   "name": "python",
   "nbconvert_exporter": "python",
   "pygments_lexer": "ipython3",
   "version": "3.9.7"
  }
 },
 "nbformat": 4,
 "nbformat_minor": 5
}
