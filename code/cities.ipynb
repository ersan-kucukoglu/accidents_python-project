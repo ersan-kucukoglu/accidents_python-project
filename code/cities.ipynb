{
 "cells": [
  {
   "cell_type": "markdown",
   "id": "65e056eb",
   "metadata": {},
   "source": [
    "## Import packages"
   ]
  },
  {
   "cell_type": "code",
   "execution_count": 1,
   "id": "e50425a3",
   "metadata": {},
   "outputs": [],
   "source": [
    "import pandas as pd \n",
    "import os\n",
    "import json\n",
    "from datetime import datetime\n",
    "import matplotlib.pyplot as plt\n",
    "import math\n",
    "import csv\n",
    "from geopy.geocoders import Nominatim\n",
    "import geocoder"
   ]
  },
  {
   "cell_type": "code",
   "execution_count": 2,
   "id": "28ca1d3f",
   "metadata": {},
   "outputs": [],
   "source": [
    "geolocator = Nominatim(user_agent=\"geoapiExercises\")"
   ]
  },
  {
   "cell_type": "code",
   "execution_count": 3,
   "id": "e6e60be6",
   "metadata": {},
   "outputs": [],
   "source": [
    "pd.set_option('display.max_columns', None)"
   ]
  },
  {
   "cell_type": "code",
   "execution_count": 4,
   "id": "560e89cb",
   "metadata": {},
   "outputs": [],
   "source": [
    "#load accidents data\n",
    "accidents_raw = pd.read_csv('/Users/ersankucukoglu/Desktop/Projects/accidents_python-project/data/raw/Accidents0515.csv')"
   ]
  },
  {
   "cell_type": "code",
   "execution_count": 5,
   "id": "feed6f20",
   "metadata": {},
   "outputs": [],
   "source": [
    "#load casualties data\n",
    "casualties_raw = pd.read_csv('/Users/ersankucukoglu/Desktop/Projects/accidents_python-project/data/raw/Casualties0515.csv',on_bad_lines='skip')"
   ]
  },
  {
   "cell_type": "code",
   "execution_count": 6,
   "id": "1cb5c8cf",
   "metadata": {},
   "outputs": [],
   "source": [
    "#drop NAs\n",
    "accidents = accidents_raw.dropna()"
   ]
  },
  {
   "cell_type": "code",
   "execution_count": 7,
   "id": "fafee99e",
   "metadata": {},
   "outputs": [],
   "source": [
    "#merge datasets\n",
    "df = accidents.merge(casualties_raw, right_index=True, left_index=True)"
   ]
  },
  {
   "cell_type": "code",
   "execution_count": 8,
   "id": "ac21155a",
   "metadata": {},
   "outputs": [],
   "source": [
    "df['Date'] = pd.to_datetime(df['Date'], format='%d/%m/%Y')"
   ]
  },
  {
   "cell_type": "code",
   "execution_count": 9,
   "id": "528dcc75",
   "metadata": {},
   "outputs": [],
   "source": [
    "df = df.set_index('Date').sort_index()"
   ]
  },
  {
   "cell_type": "code",
   "execution_count": 73,
   "id": "5a17d0fb",
   "metadata": {},
   "outputs": [],
   "source": [
    "df_jan28_31 = df.loc['2015-01-28':'2015-01-31']"
   ]
  },
  {
   "cell_type": "code",
   "execution_count": 74,
   "id": "6593fdfc",
   "metadata": {},
   "outputs": [
    {
     "data": {
      "text/plain": [
       "(1596, 46)"
      ]
     },
     "execution_count": 74,
     "metadata": {},
     "output_type": "execute_result"
    }
   ],
   "source": [
    "df_jan28_31.shape"
   ]
  },
  {
   "cell_type": "code",
   "execution_count": 75,
   "id": "121fb702",
   "metadata": {},
   "outputs": [],
   "source": [
    "def city_name(x):\n",
    "    g = geocoder.osm([x.Latitude, x.Longitude], method='reverse').json\n",
    "    if g:\n",
    "        return g.get('city')\n",
    "    else:\n",
    "        return 'no city'"
   ]
  },
  {
   "cell_type": "code",
   "execution_count": 77,
   "id": "8c20abde",
   "metadata": {},
   "outputs": [
    {
     "name": "stderr",
     "output_type": "stream",
     "text": [
      "/var/folders/zv/s48v24ws6gq1pfmppbzwjvs00000gn/T/ipykernel_81650/2700940189.py:1: SettingWithCopyWarning: \n",
      "A value is trying to be set on a copy of a slice from a DataFrame.\n",
      "Try using .loc[row_indexer,col_indexer] = value instead\n",
      "\n",
      "See the caveats in the documentation: https://pandas.pydata.org/pandas-docs/stable/user_guide/indexing.html#returning-a-view-versus-a-copy\n",
      "  df_jan28_31['city'] = df_jan28_31[['Latitude', 'Longitude']].apply(city_name, axis=1)\n"
     ]
    }
   ],
   "source": [
    "df_jan28_31['city'] = df_jan28_31[['Latitude', 'Longitude']].apply(city_name, axis=1)"
   ]
  },
  {
   "cell_type": "code",
   "execution_count": 78,
   "id": "110eb646",
   "metadata": {},
   "outputs": [],
   "source": [
    "df_jan28_31.to_csv('../data/weather/06012015-09012015.csv')"
   ]
  }
 ],
 "metadata": {
  "kernelspec": {
   "display_name": "Python 3 (ipykernel)",
   "language": "python",
   "name": "python3"
  },
  "language_info": {
   "codemirror_mode": {
    "name": "ipython",
    "version": 3
   },
   "file_extension": ".py",
   "mimetype": "text/x-python",
   "name": "python",
   "nbconvert_exporter": "python",
   "pygments_lexer": "ipython3",
   "version": "3.9.7"
  }
 },
 "nbformat": 4,
 "nbformat_minor": 5
}
