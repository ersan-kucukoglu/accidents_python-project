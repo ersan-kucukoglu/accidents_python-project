{
 "cells": [
  {
   "cell_type": "markdown",
   "id": "225c180c",
   "metadata": {},
   "source": [
    "## Get City names based on lat and long"
   ]
  },
  {
   "cell_type": "markdown",
   "id": "65e056eb",
   "metadata": {},
   "source": [
    "### Import packages"
   ]
  },
  {
   "cell_type": "code",
   "execution_count": 1,
   "id": "e50425a3",
   "metadata": {},
   "outputs": [],
   "source": [
    "import pandas as pd \n",
    "import os\n",
    "import json\n",
    "from datetime import datetime\n",
    "import matplotlib.pyplot as plt\n",
    "import math\n",
    "import csv\n",
    "from geopy.geocoders import Nominatim\n",
    "import geocoder"
   ]
  },
  {
   "cell_type": "code",
   "execution_count": 2,
   "id": "08791808",
   "metadata": {},
   "outputs": [],
   "source": [
    "geolocator = Nominatim(user_agent=\"geoapiExercises\")"
   ]
  },
  {
   "cell_type": "code",
   "execution_count": 3,
   "id": "e6e60be6",
   "metadata": {},
   "outputs": [],
   "source": [
    "pd.set_option('display.max_columns', None)"
   ]
  },
  {
   "cell_type": "code",
   "execution_count": 4,
   "id": "560e89cb",
   "metadata": {},
   "outputs": [],
   "source": [
    "#load accidents data\n",
    "accidents_raw = pd.read_csv('/Users/ersankucukoglu/Desktop/Projects/accidents_python-project/data/raw/Accidents0515.csv')"
   ]
  },
  {
   "cell_type": "code",
   "execution_count": 5,
   "id": "feed6f20",
   "metadata": {},
   "outputs": [],
   "source": [
    "#load casualties data\n",
    "casualties_raw = pd.read_csv('/Users/ersankucukoglu/Desktop/Projects/accidents_python-project/data/raw/Casualties0515.csv',on_bad_lines='skip')"
   ]
  },
  {
   "cell_type": "code",
   "execution_count": 6,
   "id": "1cb5c8cf",
   "metadata": {},
   "outputs": [],
   "source": [
    "#drop NAs\n",
    "accidents = accidents_raw.dropna()"
   ]
  },
  {
   "cell_type": "code",
   "execution_count": 7,
   "id": "fafee99e",
   "metadata": {},
   "outputs": [],
   "source": [
    "#merge datasets\n",
    "df = accidents.merge(casualties_raw, right_index=True, left_index=True)"
   ]
  },
  {
   "cell_type": "code",
   "execution_count": 8,
   "id": "ac21155a",
   "metadata": {},
   "outputs": [],
   "source": [
    "# Convert the date to datetime64\n",
    "df['Date'] = pd.to_datetime(df['Date'], format='%d/%m/%Y')"
   ]
  },
  {
   "cell_type": "code",
   "execution_count": 9,
   "id": "528dcc75",
   "metadata": {},
   "outputs": [],
   "source": [
    "#set index Date column and sort it\n",
    "df = df.set_index('Date').sort_index()"
   ]
  },
  {
   "cell_type": "code",
   "execution_count": 113,
   "id": "5a17d0fb",
   "metadata": {},
   "outputs": [],
   "source": [
    "#filter the date between two dates\n",
    "df_jan25_27 = df.loc['2015-01-25':'2015-01-27']"
   ]
  },
  {
   "cell_type": "code",
   "execution_count": 114,
   "id": "6593fdfc",
   "metadata": {},
   "outputs": [
    {
     "data": {
      "text/plain": [
       "(981, 46)"
      ]
     },
     "execution_count": 114,
     "metadata": {},
     "output_type": "execute_result"
    }
   ],
   "source": [
    "df_jan25_27.shape"
   ]
  },
  {
   "cell_type": "code",
   "execution_count": 115,
   "id": "121fb702",
   "metadata": {},
   "outputs": [],
   "source": [
    "def city_name(x):\n",
    "    g = geocoder.osm([x.Latitude, x.Longitude], method='reverse').json\n",
    "    if g:\n",
    "        return g.get('city')\n",
    "    else:\n",
    "        return 'no city'"
   ]
  },
  {
   "cell_type": "code",
   "execution_count": 116,
   "id": "8c20abde",
   "metadata": {},
   "outputs": [
    {
     "name": "stderr",
     "output_type": "stream",
     "text": [
      "/var/folders/zv/s48v24ws6gq1pfmppbzwjvs00000gn/T/ipykernel_81650/3208098259.py:1: SettingWithCopyWarning: \n",
      "A value is trying to be set on a copy of a slice from a DataFrame.\n",
      "Try using .loc[row_indexer,col_indexer] = value instead\n",
      "\n",
      "See the caveats in the documentation: https://pandas.pydata.org/pandas-docs/stable/user_guide/indexing.html#returning-a-view-versus-a-copy\n",
      "  df_jan25_27['city'] = df_jan25_27[['Latitude', 'Longitude']].apply(city_name, axis=1)\n"
     ]
    }
   ],
   "source": [
    "df_jan25_27['city'] = df_jan25_27[['Latitude', 'Longitude']].apply(city_name, axis=1)"
   ]
  },
  {
   "cell_type": "code",
   "execution_count": 117,
   "id": "110eb646",
   "metadata": {},
   "outputs": [],
   "source": [
    "df_jan25_27.to_csv('../data/weather/25012015-27012015.csv')"
   ]
  }
 ],
 "metadata": {
  "kernelspec": {
   "display_name": "Python 3 (ipykernel)",
   "language": "python",
   "name": "python3"
  },
  "language_info": {
   "codemirror_mode": {
    "name": "ipython",
    "version": 3
   },
   "file_extension": ".py",
   "mimetype": "text/x-python",
   "name": "python",
   "nbconvert_exporter": "python",
   "pygments_lexer": "ipython3",
   "version": "3.9.7"
  }
 },
 "nbformat": 4,
 "nbformat_minor": 5
}
