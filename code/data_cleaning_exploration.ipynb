{
 "cells": [
  {
   "cell_type": "markdown",
   "id": "226e1e48",
   "metadata": {},
   "source": [
    "# UK Car Accidents 2005-2015"
   ]
  },
  {
   "cell_type": "code",
   "execution_count": 1,
   "id": "ab2283ef",
   "metadata": {},
   "outputs": [],
   "source": [
    "import os"
   ]
  },
  {
   "cell_type": "code",
   "execution_count": 2,
   "id": "e83c0d04",
   "metadata": {},
   "outputs": [
    {
     "data": {
      "text/plain": [
       "'/Users/ersankucukoglu/Desktop/Projects/accidents_python-project/code'"
      ]
     },
     "execution_count": 2,
     "metadata": {},
     "output_type": "execute_result"
    }
   ],
   "source": [
    "os.getcwd()"
   ]
  },
  {
   "cell_type": "code",
   "execution_count": 3,
   "id": "f24aa716",
   "metadata": {},
   "outputs": [],
   "source": [
    "#import packages\n",
    "import pandas as pd\n",
    "import numpy as np\n",
    "import seaborn as sns \n",
    "import matplotlib.pyplot as plt"
   ]
  },
  {
   "cell_type": "code",
   "execution_count": 4,
   "id": "e0e68a05",
   "metadata": {},
   "outputs": [],
   "source": [
    "#load the datasets\n",
    "accidents_raw = pd.read_csv('/Users/ersankucukoglu/Desktop/Projects/accidents_python-project/data/raw/Accidents0515.csv')\n",
    "casualties_raw = pd.read_csv('/Users/ersankucukoglu/Desktop/Projects/accidents_python-project/data/raw/Casualties0515.csv',on_bad_lines='skip')"
   ]
  },
  {
   "cell_type": "markdown",
   "id": "bdb91053",
   "metadata": {},
   "source": [
    "## Accidents dataset"
   ]
  },
  {
   "cell_type": "markdown",
   "id": "2d7f3963",
   "metadata": {},
   "source": [
    "#### Quick look at the data:"
   ]
  },
  {
   "cell_type": "code",
   "execution_count": 5,
   "id": "e3ad5694",
   "metadata": {},
   "outputs": [
    {
     "name": "stdout",
     "output_type": "stream",
     "text": [
      "There are 1780653 rows and 32 columns.\n"
     ]
    }
   ],
   "source": [
    "nRow, nCol = accidents_raw.shape\n",
    "print(f'There are {nRow} rows and {nCol} columns.')"
   ]
  },
  {
   "cell_type": "code",
   "execution_count": 6,
   "id": "a9d18cec",
   "metadata": {},
   "outputs": [
    {
     "data": {
      "text/html": [
       "<div>\n",
       "<style scoped>\n",
       "    .dataframe tbody tr th:only-of-type {\n",
       "        vertical-align: middle;\n",
       "    }\n",
       "\n",
       "    .dataframe tbody tr th {\n",
       "        vertical-align: top;\n",
       "    }\n",
       "\n",
       "    .dataframe thead th {\n",
       "        text-align: right;\n",
       "    }\n",
       "</style>\n",
       "<table border=\"1\" class=\"dataframe\">\n",
       "  <thead>\n",
       "    <tr style=\"text-align: right;\">\n",
       "      <th></th>\n",
       "      <th>Accident_Index</th>\n",
       "      <th>Location_Easting_OSGR</th>\n",
       "      <th>Location_Northing_OSGR</th>\n",
       "      <th>Longitude</th>\n",
       "      <th>Latitude</th>\n",
       "      <th>Police_Force</th>\n",
       "      <th>Accident_Severity</th>\n",
       "      <th>Number_of_Vehicles</th>\n",
       "      <th>Number_of_Casualties</th>\n",
       "      <th>Date</th>\n",
       "      <th>...</th>\n",
       "      <th>Pedestrian_Crossing-Human_Control</th>\n",
       "      <th>Pedestrian_Crossing-Physical_Facilities</th>\n",
       "      <th>Light_Conditions</th>\n",
       "      <th>Weather_Conditions</th>\n",
       "      <th>Road_Surface_Conditions</th>\n",
       "      <th>Special_Conditions_at_Site</th>\n",
       "      <th>Carriageway_Hazards</th>\n",
       "      <th>Urban_or_Rural_Area</th>\n",
       "      <th>Did_Police_Officer_Attend_Scene_of_Accident</th>\n",
       "      <th>LSOA_of_Accident_Location</th>\n",
       "    </tr>\n",
       "  </thead>\n",
       "  <tbody>\n",
       "    <tr>\n",
       "      <th>0</th>\n",
       "      <td>200501BS00001</td>\n",
       "      <td>525680.0</td>\n",
       "      <td>178240.0</td>\n",
       "      <td>-0.191170</td>\n",
       "      <td>51.489096</td>\n",
       "      <td>1</td>\n",
       "      <td>2</td>\n",
       "      <td>1</td>\n",
       "      <td>1</td>\n",
       "      <td>04/01/2005</td>\n",
       "      <td>...</td>\n",
       "      <td>0</td>\n",
       "      <td>1</td>\n",
       "      <td>1</td>\n",
       "      <td>2</td>\n",
       "      <td>2</td>\n",
       "      <td>0</td>\n",
       "      <td>0</td>\n",
       "      <td>1</td>\n",
       "      <td>1</td>\n",
       "      <td>E01002849</td>\n",
       "    </tr>\n",
       "    <tr>\n",
       "      <th>1</th>\n",
       "      <td>200501BS00002</td>\n",
       "      <td>524170.0</td>\n",
       "      <td>181650.0</td>\n",
       "      <td>-0.211708</td>\n",
       "      <td>51.520075</td>\n",
       "      <td>1</td>\n",
       "      <td>3</td>\n",
       "      <td>1</td>\n",
       "      <td>1</td>\n",
       "      <td>05/01/2005</td>\n",
       "      <td>...</td>\n",
       "      <td>0</td>\n",
       "      <td>5</td>\n",
       "      <td>4</td>\n",
       "      <td>1</td>\n",
       "      <td>1</td>\n",
       "      <td>0</td>\n",
       "      <td>0</td>\n",
       "      <td>1</td>\n",
       "      <td>1</td>\n",
       "      <td>E01002909</td>\n",
       "    </tr>\n",
       "    <tr>\n",
       "      <th>2</th>\n",
       "      <td>200501BS00003</td>\n",
       "      <td>524520.0</td>\n",
       "      <td>182240.0</td>\n",
       "      <td>-0.206458</td>\n",
       "      <td>51.525301</td>\n",
       "      <td>1</td>\n",
       "      <td>3</td>\n",
       "      <td>2</td>\n",
       "      <td>1</td>\n",
       "      <td>06/01/2005</td>\n",
       "      <td>...</td>\n",
       "      <td>0</td>\n",
       "      <td>0</td>\n",
       "      <td>4</td>\n",
       "      <td>1</td>\n",
       "      <td>1</td>\n",
       "      <td>0</td>\n",
       "      <td>0</td>\n",
       "      <td>1</td>\n",
       "      <td>1</td>\n",
       "      <td>E01002857</td>\n",
       "    </tr>\n",
       "    <tr>\n",
       "      <th>3</th>\n",
       "      <td>200501BS00004</td>\n",
       "      <td>526900.0</td>\n",
       "      <td>177530.0</td>\n",
       "      <td>-0.173862</td>\n",
       "      <td>51.482442</td>\n",
       "      <td>1</td>\n",
       "      <td>3</td>\n",
       "      <td>1</td>\n",
       "      <td>1</td>\n",
       "      <td>07/01/2005</td>\n",
       "      <td>...</td>\n",
       "      <td>0</td>\n",
       "      <td>0</td>\n",
       "      <td>1</td>\n",
       "      <td>1</td>\n",
       "      <td>1</td>\n",
       "      <td>0</td>\n",
       "      <td>0</td>\n",
       "      <td>1</td>\n",
       "      <td>1</td>\n",
       "      <td>E01002840</td>\n",
       "    </tr>\n",
       "    <tr>\n",
       "      <th>4</th>\n",
       "      <td>200501BS00005</td>\n",
       "      <td>528060.0</td>\n",
       "      <td>179040.0</td>\n",
       "      <td>-0.156618</td>\n",
       "      <td>51.495752</td>\n",
       "      <td>1</td>\n",
       "      <td>3</td>\n",
       "      <td>1</td>\n",
       "      <td>1</td>\n",
       "      <td>10/01/2005</td>\n",
       "      <td>...</td>\n",
       "      <td>0</td>\n",
       "      <td>0</td>\n",
       "      <td>7</td>\n",
       "      <td>1</td>\n",
       "      <td>2</td>\n",
       "      <td>0</td>\n",
       "      <td>0</td>\n",
       "      <td>1</td>\n",
       "      <td>1</td>\n",
       "      <td>E01002863</td>\n",
       "    </tr>\n",
       "    <tr>\n",
       "      <th>5</th>\n",
       "      <td>200501BS00006</td>\n",
       "      <td>524770.0</td>\n",
       "      <td>181160.0</td>\n",
       "      <td>-0.203238</td>\n",
       "      <td>51.515540</td>\n",
       "      <td>1</td>\n",
       "      <td>3</td>\n",
       "      <td>2</td>\n",
       "      <td>1</td>\n",
       "      <td>11/01/2005</td>\n",
       "      <td>...</td>\n",
       "      <td>0</td>\n",
       "      <td>0</td>\n",
       "      <td>1</td>\n",
       "      <td>2</td>\n",
       "      <td>2</td>\n",
       "      <td>6</td>\n",
       "      <td>0</td>\n",
       "      <td>1</td>\n",
       "      <td>1</td>\n",
       "      <td>E01002832</td>\n",
       "    </tr>\n",
       "    <tr>\n",
       "      <th>6</th>\n",
       "      <td>200501BS00007</td>\n",
       "      <td>524220.0</td>\n",
       "      <td>180830.0</td>\n",
       "      <td>-0.211277</td>\n",
       "      <td>51.512695</td>\n",
       "      <td>1</td>\n",
       "      <td>3</td>\n",
       "      <td>2</td>\n",
       "      <td>1</td>\n",
       "      <td>13/01/2005</td>\n",
       "      <td>...</td>\n",
       "      <td>0</td>\n",
       "      <td>0</td>\n",
       "      <td>4</td>\n",
       "      <td>1</td>\n",
       "      <td>1</td>\n",
       "      <td>0</td>\n",
       "      <td>0</td>\n",
       "      <td>1</td>\n",
       "      <td>1</td>\n",
       "      <td>E01002875</td>\n",
       "    </tr>\n",
       "    <tr>\n",
       "      <th>7</th>\n",
       "      <td>200501BS00009</td>\n",
       "      <td>525890.0</td>\n",
       "      <td>179710.0</td>\n",
       "      <td>-0.187623</td>\n",
       "      <td>51.502260</td>\n",
       "      <td>1</td>\n",
       "      <td>3</td>\n",
       "      <td>1</td>\n",
       "      <td>2</td>\n",
       "      <td>14/01/2005</td>\n",
       "      <td>...</td>\n",
       "      <td>0</td>\n",
       "      <td>0</td>\n",
       "      <td>1</td>\n",
       "      <td>1</td>\n",
       "      <td>1</td>\n",
       "      <td>0</td>\n",
       "      <td>0</td>\n",
       "      <td>1</td>\n",
       "      <td>1</td>\n",
       "      <td>E01002889</td>\n",
       "    </tr>\n",
       "    <tr>\n",
       "      <th>8</th>\n",
       "      <td>200501BS00010</td>\n",
       "      <td>527350.0</td>\n",
       "      <td>177650.0</td>\n",
       "      <td>-0.167342</td>\n",
       "      <td>51.483420</td>\n",
       "      <td>1</td>\n",
       "      <td>3</td>\n",
       "      <td>2</td>\n",
       "      <td>2</td>\n",
       "      <td>15/01/2005</td>\n",
       "      <td>...</td>\n",
       "      <td>0</td>\n",
       "      <td>5</td>\n",
       "      <td>4</td>\n",
       "      <td>1</td>\n",
       "      <td>1</td>\n",
       "      <td>0</td>\n",
       "      <td>0</td>\n",
       "      <td>1</td>\n",
       "      <td>1</td>\n",
       "      <td>E01002900</td>\n",
       "    </tr>\n",
       "    <tr>\n",
       "      <th>9</th>\n",
       "      <td>200501BS00011</td>\n",
       "      <td>524550.0</td>\n",
       "      <td>180810.0</td>\n",
       "      <td>-0.206531</td>\n",
       "      <td>51.512443</td>\n",
       "      <td>1</td>\n",
       "      <td>3</td>\n",
       "      <td>2</td>\n",
       "      <td>5</td>\n",
       "      <td>15/01/2005</td>\n",
       "      <td>...</td>\n",
       "      <td>0</td>\n",
       "      <td>8</td>\n",
       "      <td>1</td>\n",
       "      <td>1</td>\n",
       "      <td>1</td>\n",
       "      <td>0</td>\n",
       "      <td>0</td>\n",
       "      <td>1</td>\n",
       "      <td>1</td>\n",
       "      <td>E01002875</td>\n",
       "    </tr>\n",
       "  </tbody>\n",
       "</table>\n",
       "<p>10 rows × 32 columns</p>\n",
       "</div>"
      ],
      "text/plain": [
       "  Accident_Index  Location_Easting_OSGR  Location_Northing_OSGR  Longitude  \\\n",
       "0  200501BS00001               525680.0                178240.0  -0.191170   \n",
       "1  200501BS00002               524170.0                181650.0  -0.211708   \n",
       "2  200501BS00003               524520.0                182240.0  -0.206458   \n",
       "3  200501BS00004               526900.0                177530.0  -0.173862   \n",
       "4  200501BS00005               528060.0                179040.0  -0.156618   \n",
       "5  200501BS00006               524770.0                181160.0  -0.203238   \n",
       "6  200501BS00007               524220.0                180830.0  -0.211277   \n",
       "7  200501BS00009               525890.0                179710.0  -0.187623   \n",
       "8  200501BS00010               527350.0                177650.0  -0.167342   \n",
       "9  200501BS00011               524550.0                180810.0  -0.206531   \n",
       "\n",
       "    Latitude  Police_Force  Accident_Severity  Number_of_Vehicles  \\\n",
       "0  51.489096             1                  2                   1   \n",
       "1  51.520075             1                  3                   1   \n",
       "2  51.525301             1                  3                   2   \n",
       "3  51.482442             1                  3                   1   \n",
       "4  51.495752             1                  3                   1   \n",
       "5  51.515540             1                  3                   2   \n",
       "6  51.512695             1                  3                   2   \n",
       "7  51.502260             1                  3                   1   \n",
       "8  51.483420             1                  3                   2   \n",
       "9  51.512443             1                  3                   2   \n",
       "\n",
       "   Number_of_Casualties        Date  ...  Pedestrian_Crossing-Human_Control  \\\n",
       "0                     1  04/01/2005  ...                                  0   \n",
       "1                     1  05/01/2005  ...                                  0   \n",
       "2                     1  06/01/2005  ...                                  0   \n",
       "3                     1  07/01/2005  ...                                  0   \n",
       "4                     1  10/01/2005  ...                                  0   \n",
       "5                     1  11/01/2005  ...                                  0   \n",
       "6                     1  13/01/2005  ...                                  0   \n",
       "7                     2  14/01/2005  ...                                  0   \n",
       "8                     2  15/01/2005  ...                                  0   \n",
       "9                     5  15/01/2005  ...                                  0   \n",
       "\n",
       "  Pedestrian_Crossing-Physical_Facilities  Light_Conditions  \\\n",
       "0                                       1                 1   \n",
       "1                                       5                 4   \n",
       "2                                       0                 4   \n",
       "3                                       0                 1   \n",
       "4                                       0                 7   \n",
       "5                                       0                 1   \n",
       "6                                       0                 4   \n",
       "7                                       0                 1   \n",
       "8                                       5                 4   \n",
       "9                                       8                 1   \n",
       "\n",
       "  Weather_Conditions  Road_Surface_Conditions  Special_Conditions_at_Site  \\\n",
       "0                  2                        2                           0   \n",
       "1                  1                        1                           0   \n",
       "2                  1                        1                           0   \n",
       "3                  1                        1                           0   \n",
       "4                  1                        2                           0   \n",
       "5                  2                        2                           6   \n",
       "6                  1                        1                           0   \n",
       "7                  1                        1                           0   \n",
       "8                  1                        1                           0   \n",
       "9                  1                        1                           0   \n",
       "\n",
       "   Carriageway_Hazards  Urban_or_Rural_Area  \\\n",
       "0                    0                    1   \n",
       "1                    0                    1   \n",
       "2                    0                    1   \n",
       "3                    0                    1   \n",
       "4                    0                    1   \n",
       "5                    0                    1   \n",
       "6                    0                    1   \n",
       "7                    0                    1   \n",
       "8                    0                    1   \n",
       "9                    0                    1   \n",
       "\n",
       "   Did_Police_Officer_Attend_Scene_of_Accident  LSOA_of_Accident_Location  \n",
       "0                                            1                  E01002849  \n",
       "1                                            1                  E01002909  \n",
       "2                                            1                  E01002857  \n",
       "3                                            1                  E01002840  \n",
       "4                                            1                  E01002863  \n",
       "5                                            1                  E01002832  \n",
       "6                                            1                  E01002875  \n",
       "7                                            1                  E01002889  \n",
       "8                                            1                  E01002900  \n",
       "9                                            1                  E01002875  \n",
       "\n",
       "[10 rows x 32 columns]"
      ]
     },
     "execution_count": 6,
     "metadata": {},
     "output_type": "execute_result"
    }
   ],
   "source": [
    "accidents_raw.head(10)"
   ]
  },
  {
   "cell_type": "code",
   "execution_count": null,
   "id": "3f76d56f",
   "metadata": {
    "scrolled": true
   },
   "outputs": [],
   "source": [
    "#info attribute gives info about dataframe\n",
    "accidents_raw.info()"
   ]
  },
  {
   "cell_type": "code",
   "execution_count": null,
   "id": "8b2429a5",
   "metadata": {},
   "outputs": [],
   "source": [
    "#summary stats\n",
    "accidents_raw.describe()"
   ]
  },
  {
   "cell_type": "code",
   "execution_count": null,
   "id": "f24cb63a",
   "metadata": {},
   "outputs": [],
   "source": [
    "#column names\n",
    "accidents_raw.columns"
   ]
  },
  {
   "cell_type": "code",
   "execution_count": 7,
   "id": "201c5a88",
   "metadata": {},
   "outputs": [
    {
     "data": {
      "text/plain": [
       "Accident_Index                                      0\n",
       "Location_Easting_OSGR                             138\n",
       "Location_Northing_OSGR                            138\n",
       "Longitude                                         138\n",
       "Latitude                                          138\n",
       "Police_Force                                        0\n",
       "Accident_Severity                                   0\n",
       "Number_of_Vehicles                                  0\n",
       "Number_of_Casualties                                0\n",
       "Date                                                0\n",
       "Day_of_Week                                         0\n",
       "Time                                              151\n",
       "Local_Authority_(District)                          0\n",
       "Local_Authority_(Highway)                           0\n",
       "1st_Road_Class                                      0\n",
       "1st_Road_Number                                     0\n",
       "Road_Type                                           0\n",
       "Speed_limit                                         0\n",
       "Junction_Detail                                     0\n",
       "Junction_Control                                    0\n",
       "2nd_Road_Class                                      0\n",
       "2nd_Road_Number                                     0\n",
       "Pedestrian_Crossing-Human_Control                   0\n",
       "Pedestrian_Crossing-Physical_Facilities             0\n",
       "Light_Conditions                                    0\n",
       "Weather_Conditions                                  0\n",
       "Road_Surface_Conditions                             0\n",
       "Special_Conditions_at_Site                          0\n",
       "Carriageway_Hazards                                 0\n",
       "Urban_or_Rural_Area                                 0\n",
       "Did_Police_Officer_Attend_Scene_of_Accident         0\n",
       "LSOA_of_Accident_Location                      129471\n",
       "dtype: int64"
      ]
     },
     "execution_count": 7,
     "metadata": {},
     "output_type": "execute_result"
    }
   ],
   "source": [
    "accidents_raw.isnull().sum()"
   ]
  },
  {
   "cell_type": "code",
   "execution_count": 8,
   "id": "75ea6f85",
   "metadata": {},
   "outputs": [],
   "source": [
    "#drop na\n",
    "accidents = accidents_raw.dropna()"
   ]
  },
  {
   "cell_type": "code",
   "execution_count": 20,
   "id": "7381103a",
   "metadata": {},
   "outputs": [
    {
     "name": "stderr",
     "output_type": "stream",
     "text": [
      "/var/folders/zv/s48v24ws6gq1pfmppbzwjvs00000gn/T/ipykernel_59124/2636492076.py:2: SettingWithCopyWarning: \n",
      "A value is trying to be set on a copy of a slice from a DataFrame.\n",
      "Try using .loc[row_indexer,col_indexer] = value instead\n",
      "\n",
      "See the caveats in the documentation: https://pandas.pydata.org/pandas-docs/stable/user_guide/indexing.html#returning-a-view-versus-a-copy\n",
      "  accidents['Date'] = pd.to_datetime(accidents['Date'], format='%d/%m/%Y')\n"
     ]
    }
   ],
   "source": [
    "# Convert the date to datetime64\n",
    "accidents['Date'] = pd.to_datetime(accidents['Date'], format='%d/%m/%Y')"
   ]
  },
  {
   "cell_type": "code",
   "execution_count": 21,
   "id": "f9bf9fbe",
   "metadata": {},
   "outputs": [],
   "source": [
    "# Filter data between two dates\n",
    "accidents = accidents.loc[(accidents['Date'] >= '01/01/2010')\n",
    "                     & (accidents['Date'] < '31/12/2015')]"
   ]
  },
  {
   "cell_type": "code",
   "execution_count": 22,
   "id": "a171949b",
   "metadata": {},
   "outputs": [
    {
     "data": {
      "text/plain": [
       "(818278, 32)"
      ]
     },
     "execution_count": 22,
     "metadata": {},
     "output_type": "execute_result"
    }
   ],
   "source": [
    "#filter the date between 2010-01-01 and 2015-12-31\n",
    "accidents.shape"
   ]
  },
  {
   "cell_type": "code",
   "execution_count": null,
   "id": "9736302d",
   "metadata": {},
   "outputs": [],
   "source": [
    "accidents.isnull().sum()"
   ]
  },
  {
   "cell_type": "code",
   "execution_count": null,
   "id": "4fcf2ca1",
   "metadata": {},
   "outputs": [],
   "source": [
    "#correlation \n",
    "\n",
    "accidents_corr = accidents.corr()\n",
    "plt.figure(figsize=(20,10))\n",
    "sns.heatmap(accidents_corr, annot=True)"
   ]
  },
  {
   "cell_type": "code",
   "execution_count": null,
   "id": "5ff1caed",
   "metadata": {},
   "outputs": [],
   "source": [
    "#Distribution of accidents based on dayweek:\n",
    "\n",
    "plt.figure(figsize=(10,5))\n",
    "accidents['Day_of_Week'].hist(color='purple')\n",
    "plt.grid(alpha=0.4)"
   ]
  },
  {
   "cell_type": "code",
   "execution_count": null,
   "id": "4753513d",
   "metadata": {},
   "outputs": [],
   "source": [
    "#Distribution of accidents based on road type:\n",
    "\n",
    "plt.figure(figsize=(10,5))\n",
    "ax=sns.countplot('Road_Type',hue='Accident_Severity',data=accidents)\n",
    "ax.set_xticklabels(['Roundabout','One_way_street ','Dual_carriageway','Single carriageway','Slip road','Unknown'])\n",
    "plt.xticks(rotation=90)\n",
    "plt.legend(['Fatal','Serious','Slight'])\n",
    "plt.grid(alpha=0.4)"
   ]
  },
  {
   "cell_type": "code",
   "execution_count": null,
   "id": "40e58953",
   "metadata": {},
   "outputs": [],
   "source": [
    "#Map - Scatter plot of Longitude/Latitude\n",
    "\n",
    "plt.figure(figsize=(10,5))\n",
    "plt.scatter(x='Latitude',y='Longitude',data=accidents,c='orange')\n",
    "plt.xlabel('Latitude',fontsize=12)\n",
    "plt.ylabel('Longitude',fontsize=12)\n",
    "plt.grid(alpha=0.4)"
   ]
  },
  {
   "cell_type": "code",
   "execution_count": null,
   "id": "488a63d0",
   "metadata": {},
   "outputs": [],
   "source": [
    "#Distribution of accidents based on light conditions\n",
    "\n",
    "plt.figure(figsize=(10,5))\n",
    "ax=sns.countplot('Light_Conditions',data=accidents,color='orange') \n",
    "ax.set_xticklabels(['Daylight','Darkness - lights lit',\n",
    "                    'Darkness - lights unlit','Darkness - no lighting','Darkness - lighting unknown'])\n",
    "plt.xticks(Rotation=90)\n",
    "plt.title('Accident rates based on light conditions',fontsize=15)\n",
    "plt.grid(alpha=0.4)\n",
    "plt.show()"
   ]
  },
  {
   "cell_type": "markdown",
   "id": "2563625a",
   "metadata": {},
   "source": [
    "## Casualties dataset"
   ]
  },
  {
   "cell_type": "markdown",
   "id": "bdadd394",
   "metadata": {},
   "source": [
    "#### Quick look at the data:"
   ]
  },
  {
   "cell_type": "code",
   "execution_count": null,
   "id": "3f8a8f41",
   "metadata": {},
   "outputs": [],
   "source": [
    "nRow, nCol = casualties_raw.shape\n",
    "print(f'There are {nRow} rows and {nCol} columns.')"
   ]
  },
  {
   "cell_type": "code",
   "execution_count": null,
   "id": "f9dba2de",
   "metadata": {},
   "outputs": [],
   "source": [
    "casualties_raw.head(10)"
   ]
  },
  {
   "cell_type": "code",
   "execution_count": null,
   "id": "d09c97db",
   "metadata": {},
   "outputs": [],
   "source": [
    "#info attribute gives info about dataframe\n",
    "casualties_raw.info()"
   ]
  },
  {
   "cell_type": "code",
   "execution_count": null,
   "id": "50e9ca0d",
   "metadata": {},
   "outputs": [],
   "source": [
    "#summary stats\n",
    "casualties_raw.describe()"
   ]
  },
  {
   "cell_type": "code",
   "execution_count": null,
   "id": "2a7e66e2",
   "metadata": {},
   "outputs": [],
   "source": [
    "#column names\n",
    "casualties_raw.columns"
   ]
  },
  {
   "cell_type": "code",
   "execution_count": null,
   "id": "cf4c6ce0",
   "metadata": {},
   "outputs": [],
   "source": [
    "casualties_raw.isnull().sum()"
   ]
  },
  {
   "cell_type": "code",
   "execution_count": null,
   "id": "f2f51c80",
   "metadata": {},
   "outputs": [],
   "source": [
    "casualties = casualties_raw"
   ]
  },
  {
   "cell_type": "code",
   "execution_count": null,
   "id": "75d50505",
   "metadata": {},
   "outputs": [],
   "source": [
    "#correlation\n",
    "casualties_corr = casualties.corr()\n",
    "plt.figure(figsize=(20,10))\n",
    "sns.heatmap(casualties_corr, annot=True)"
   ]
  },
  {
   "cell_type": "code",
   "execution_count": null,
   "id": "9540783e",
   "metadata": {},
   "outputs": [],
   "source": [
    "#Histograms\n",
    "plt.figure()\n",
    "casualties.hist(figsize=(15,15));"
   ]
  },
  {
   "cell_type": "code",
   "execution_count": null,
   "id": "31139cc6",
   "metadata": {},
   "outputs": [],
   "source": [
    "#Distrubution of casualties by age:\n",
    "\n",
    "plt.figure(figsize=(20,5))\n",
    "sns.countplot('Age_of_Casualty',data=casualties)\n",
    "plt.title('Casualties vs Age', fontsize=15)\n",
    "plt.xticks(rotation=90)\n",
    "plt.grid(alpha=0.4)\n",
    "plt.show()\n",
    "\n",
    "#skewed to the right"
   ]
  },
  {
   "cell_type": "code",
   "execution_count": null,
   "id": "558ec14a",
   "metadata": {},
   "outputs": [],
   "source": [
    "#Distrubution of casualties by age and gender:\n",
    "\n",
    "plt.figure(figsize=(40,10))\n",
    "sns.countplot('Age_of_Casualty',hue='Sex_of_Casualty',data=casualties)\n",
    "plt.xticks(fontsize=15,rotation=90)\n",
    "plt.legend(['Missing data','Male','Female'],prop={'size': 30}, loc=1)\n",
    "plt.grid(alpha=0.4)\n",
    "plt.xlabel('AGE_OF_CASUALITIES', fontsize=25)\n",
    "plt.ylabel('COUNT', fontsize=25)\n",
    "plt.show()\n",
    "\n",
    "#more males"
   ]
  },
  {
   "cell_type": "code",
   "execution_count": null,
   "id": "437ceb21",
   "metadata": {},
   "outputs": [],
   "source": [
    "#Distribution of casualty class\n",
    "\n",
    "plt.figure()\n",
    "ax=sns.countplot('Casualty_Class', data=casualties)\n",
    "ax.set_xticklabels(['Driver or rider','Passenger','Pedestrian'])\n",
    "plt.grid(alpha=0.4)\n",
    "plt.show()\n",
    "\n",
    "#more drivers"
   ]
  },
  {
   "cell_type": "markdown",
   "id": "2d7598f7",
   "metadata": {},
   "source": [
    "## Accidents-Casualties"
   ]
  },
  {
   "cell_type": "code",
   "execution_count": null,
   "id": "14ad9193",
   "metadata": {},
   "outputs": [],
   "source": [
    "#merge datasets\n",
    "\n",
    "df = accidents.merge(casualties, right_index=True, left_index=True)\n",
    "df.head(10)"
   ]
  },
  {
   "cell_type": "code",
   "execution_count": null,
   "id": "326729b3",
   "metadata": {},
   "outputs": [],
   "source": [
    "df.columns"
   ]
  },
  {
   "cell_type": "markdown",
   "id": "10013f9a",
   "metadata": {},
   "source": [
    "## Data exploration"
   ]
  },
  {
   "cell_type": "code",
   "execution_count": null,
   "id": "fbd9e286",
   "metadata": {},
   "outputs": [],
   "source": [
    "#Accidents severity by sex\n",
    "\n",
    "plt.figure(figsize=(10,5))\n",
    "ax=sns.countplot('Accident_Severity',hue='Sex_of_Casualty',data=df)\n",
    "ax.set_xticklabels(['Fatal','Serious','Slight'])\n",
    "plt.legend(['Unlabelled','Male','Female'],fontsize=12)\n",
    "plt.title('Accidents severity by sex', fontsize=15)\n",
    "plt.grid(alpha=0.4)"
   ]
  },
  {
   "cell_type": "code",
   "execution_count": null,
   "id": "c4d78197",
   "metadata": {},
   "outputs": [],
   "source": [
    "#Accidents severity by casualty class\n",
    "\n",
    "plt.figure(figsize=(10,5))\n",
    "ax=sns.countplot('Accident_Severity',hue='Casualty_Class',data=df)\n",
    "plt.legend(['Driver or rider','Passenger','Pedestrian'],fontsize=12)\n",
    "ax.set_xticklabels(['Fatal','Serious','Slight'])\n",
    "plt.title('Accidents severity by Casualty Class', fontsize=15)\n",
    "plt.grid(alpha=0.4)"
   ]
  },
  {
   "cell_type": "code",
   "execution_count": null,
   "id": "6886b293",
   "metadata": {},
   "outputs": [],
   "source": [
    "#Accidents severity by light conditions\n",
    "\n",
    "plt.figure(figsize=(10,5))\n",
    "ax=sns.countplot('Accident_Severity', hue='Light_Conditions', data=df)\n",
    "plt.legend(['Daylight','Darkness - lights lit','Darkness - lights unlit','Darkness - no lighting','Darkness - lighting unknown'],fontsize=12)\n",
    "ax.set_xticklabels(['Fatal','Serious','Slight'])\n",
    "plt.title('Accident severity by Light conditions', fontsize=15)\n",
    "plt.grid(alpha=0.4)"
   ]
  },
  {
   "cell_type": "code",
   "execution_count": null,
   "id": "352f5ba8",
   "metadata": {},
   "outputs": [],
   "source": [
    "#Accidents severity by road type\n",
    "\n",
    "plt.figure(figsize=(10,5))\n",
    "sns.countplot('Accident_Severity', hue='Road_Type', data=df)\n",
    "ax.set_xticklabels(['Fatal','Serious','Slight'])\n",
    "plt.legend(['Roundabout','One way street','Dual carriageway','Single carriageway','Slip road','Unknown'], fontsize=12)\n",
    "plt.title('Accident severity by road type', fontsize=15)\n",
    "plt.grid(alpha=0.4)"
   ]
  }
 ],
 "metadata": {
  "kernelspec": {
   "display_name": "Python 3 (ipykernel)",
   "language": "python",
   "name": "python3"
  },
  "language_info": {
   "codemirror_mode": {
    "name": "ipython",
    "version": 3
   },
   "file_extension": ".py",
   "mimetype": "text/x-python",
   "name": "python",
   "nbconvert_exporter": "python",
   "pygments_lexer": "ipython3",
   "version": "3.9.7"
  }
 },
 "nbformat": 4,
 "nbformat_minor": 5
}
